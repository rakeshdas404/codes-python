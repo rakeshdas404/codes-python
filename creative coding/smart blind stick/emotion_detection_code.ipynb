{
 "cells": [
  {
   "cell_type": "markdown",
   "metadata": {
    "id": "sZjTDzc7ncgW"
   },
   "source": [
    "# Importing required packages and datasets from kaggle"
   ]
  },
  {
   "cell_type": "code",
   "execution_count": 1,
   "metadata": {
    "_cell_guid": "b1076dfc-b9ad-4769-8c92-a6c4dae69d19",
    "_uuid": "8f2839f25d086af736a60e9eeb907d3b93b6e0e5",
    "id": "30Fi-7qJawFy",
    "trusted": true
   },
   "outputs": [],
   "source": [
    "import numpy as np # linear algebra\n",
    "import pandas as pd # data processing, CSV file I/O (e.g. pd.read_csv)\n",
    "import os\n",
    "#for dirname, _, filenames in os.walk('/kaggle/input'):\n",
    "    #for filename in filenames:\n",
    "        #print(os.path.join(dirname, filename))\n",
    "import matplotlib.pyplot as plt\n",
    "import seaborn as sns\n",
    "import tensorflow as tf\n",
    "import keras\n",
    "from keras.preprocessing import image\n",
    "from keras.models import Sequential\n",
    "from keras.layers import Conv2D, MaxPool2D, Flatten,Dense,Dropout,BatchNormalization\n",
    "from tensorflow.keras.preprocessing.image import ImageDataGenerator\n",
    "import cv2\n",
    "from tensorflow.keras.applications import VGG16, InceptionResNetV2\n",
    "from keras import regularizers\n",
    "from tensorflow.keras.optimizers import Adam,RMSprop,SGD,Adamax"
   ]
  },
  {
   "cell_type": "code",
   "execution_count": 2,
   "metadata": {
    "colab": {
     "base_uri": "https://localhost:8080/"
    },
    "id": "J3TVTohW-quN",
    "outputId": "8280fcf7-ab7d-4f89-a20c-f72273d22949"
   },
   "outputs": [
    {
     "name": "stdout",
     "output_type": "stream",
     "text": [
      "Downloading from https://www.kaggle.com/api/v1/datasets/download/rakeshdasdata/keras-pretrained-models?dataset_version_number=1...\n"
     ]
    },
    {
     "name": "stderr",
     "output_type": "stream",
     "text": [
      "100%|██████████| 943M/943M [00:12<00:00, 76.4MB/s]"
     ]
    },
    {
     "name": "stdout",
     "output_type": "stream",
     "text": [
      "Extracting files...\n"
     ]
    },
    {
     "name": "stderr",
     "output_type": "stream",
     "text": [
      "\n"
     ]
    },
    {
     "name": "stdout",
     "output_type": "stream",
     "text": [
      "Downloading from https://www.kaggle.com/api/v1/datasets/download/rakeshdasdata/rakesh-fer-dataset?dataset_version_number=1...\n"
     ]
    },
    {
     "name": "stderr",
     "output_type": "stream",
     "text": [
      "100%|██████████| 60.3M/60.3M [00:01<00:00, 39.1MB/s]"
     ]
    },
    {
     "name": "stdout",
     "output_type": "stream",
     "text": [
      "Extracting files...\n"
     ]
    },
    {
     "name": "stderr",
     "output_type": "stream",
     "text": [
      "\n"
     ]
    },
    {
     "name": "stdout",
     "output_type": "stream",
     "text": [
      "Downloading from https://www.kaggle.com/api/v1/datasets/download/rakeshdasdata/rakesh-emotion-detection-fer?dataset_version_number=1...\n"
     ]
    },
    {
     "name": "stderr",
     "output_type": "stream",
     "text": [
      "100%|██████████| 65.2M/65.2M [00:00<00:00, 104MB/s] "
     ]
    },
    {
     "name": "stdout",
     "output_type": "stream",
     "text": [
      "Extracting files...\n"
     ]
    },
    {
     "name": "stderr",
     "output_type": "stream",
     "text": [
      "\n"
     ]
    },
    {
     "name": "stdout",
     "output_type": "stream",
     "text": [
      "Data source import complete.\n"
     ]
    }
   ],
   "source": [
    "\n",
    "import kagglehub\n",
    "keras_pretrained_models_path =kagglehub.dataset_download(\"rakeshdasdata/keras-pretrained-models\")\n",
    "fer2013_path = kagglehub.dataset_download(\"rakeshdasdata/rakesh-fer-dataset\")\n",
    "emotion_detection_fer_path = kagglehub.dataset_download(\"rakeshdasdata/rakesh-emotion-detection-fer\")\n",
    "\n",
    "\n",
    "print('Data source import complete.')\n"
   ]
  },
  {
   "cell_type": "markdown",
   "metadata": {
    "id": "AGMJK8tunj3c"
   },
   "source": [
    "Moving Datasets\n",
    "Moves the downloaded datasets to the /content directory using shutil.move. This is done to ensure data persistence."
   ]
  },
  {
   "cell_type": "code",
   "execution_count": null,
   "metadata": {
    "colab": {
     "base_uri": "https://localhost:8080/",
     "height": 38
    },
    "id": "Yp_eUmFc-tYT",
    "outputId": "05c30a9a-bb3c-4694-8619-82fc97a71ddf"
   },
   "outputs": [
    {
     "data": {
      "application/vnd.google.colaboratory.intrinsic+json": {
       "type": "string"
      },
      "text/plain": [
       "'/content/emotion_detection_fer_path'"
      ]
     },
     "execution_count": 3,
     "metadata": {},
     "output_type": "execute_result"
    }
   ],
   "source": [
    "import shutil\n",
    "shutil.move(keras_pretrained_models_path, '/content/keras_pretrained_models_path') # Move to /content\n",
    "shutil.move(fer2013_path, '/content/fer2013_path') # Move to /content\n",
    "shutil.move(emotion_detection_fer_path, '/content/emotion_detection_fer_path') # Move to /content\n",
    "\n",
    "# Inspired by the solution provided by chatGPT\n"
   ]
  },
  {
   "cell_type": "code",
   "execution_count": 4,
   "metadata": {
    "id": "bK7bg8LGawF0",
    "trusted": true
   },
   "outputs": [],
   "source": [
    "train_dir = \"/content/fer2013_path/train\" #passing the path with training images\n",
    "test_dir = \"/content/fer2013_path/test\"   #passing the path with testing images"
   ]
  },
  {
   "cell_type": "code",
   "execution_count": 5,
   "metadata": {
    "id": "rhdIgtPpawF1",
    "trusted": true
   },
   "outputs": [],
   "source": [
    "img_size = 48 #original size of the image"
   ]
  },
  {
   "cell_type": "markdown",
   "metadata": {
    "id": "xlR_11dboB61"
   },
   "source": [
    "# Data Preprocessing and Augmentation\n",
    "\n",
    "Defines the image size (img_size) and Creates ImageDataGenerator instances for data augmentation (train_datagen) and validation (validation_datagen).\n",
    "Augmentation techniques include width/height shift, horizontal flip, and rescaling.\n",
    "Creates data generators (train_generator, validation_generator) using flow_from_directory to load and preprocess images from the specified directories."
   ]
  },
  {
   "cell_type": "code",
   "execution_count": null,
   "metadata": {
    "colab": {
     "base_uri": "https://localhost:8080/"
    },
    "id": "z5t_tPkCawF2",
    "outputId": "05314b4c-06d4-4e3b-bb6b-72be3a417c5c",
    "trusted": true
   },
   "outputs": [
    {
     "name": "stdout",
     "output_type": "stream",
     "text": [
      "Found 22968 images belonging to 7 classes.\n",
      "Found 1432 images belonging to 7 classes.\n"
     ]
    }
   ],
   "source": [
    "\n",
    "train_datagen = ImageDataGenerator(#rotation_range = 180,\n",
    "                                         width_shift_range = 0.1,\n",
    "                                         height_shift_range = 0.1,\n",
    "                                         horizontal_flip = True,\n",
    "                                         rescale = 1./255,\n",
    "                                         #zoom_range = 0.2,\n",
    "                                         validation_split = 0.2\n",
    "                                        )\n",
    "validation_datagen = ImageDataGenerator(rescale = 1./255,\n",
    "                                         validation_split = 0.2)\n",
    "\n",
    "\n",
    "train_generator = train_datagen.flow_from_directory(directory = train_dir,\n",
    "                                                    target_size = (img_size,img_size),\n",
    "                                                    batch_size = 64,\n",
    "                                                    color_mode = \"grayscale\",\n",
    "                                                    class_mode = \"categorical\",\n",
    "                                                    subset = \"training\"\n",
    "                                                   )\n",
    "validation_generator = validation_datagen.flow_from_directory( directory = test_dir,\n",
    "                                                              target_size = (img_size,img_size),\n",
    "                                                              batch_size = 64,\n",
    "                                                              color_mode = \"grayscale\",\n",
    "                                                              class_mode = \"categorical\",\n",
    "                                                              subset = \"validation\"\n",
    "                                                             )\n",
    "\n",
    "# Inspired by the work in the below source on Kaggle:\n",
    "# \"Face Emotion Detection\" - https://www.kaggle.com/code/tejaswashrivastava/face-emotion"
   ]
  },
  {
   "cell_type": "code",
   "execution_count": 6,
   "metadata": {
    "id": "-z4jrLrpawF4",
    "trusted": true
   },
   "outputs": [],
   "source": []
  },
  {
   "cell_type": "markdown",
   "metadata": {
    "id": "xXKEmiq4oQ9K"
   },
   "source": [
    "# Model Building and Compilation\n",
    "Compiles the model with the Adam optimizer, categorical cross-entropy loss function, and accuracy metric."
   ]
  },
  {
   "cell_type": "code",
   "execution_count": null,
   "metadata": {
    "colab": {
     "base_uri": "https://localhost:8080/"
    },
    "id": "2HPpsSuUawF7",
    "outputId": "86b9c009-db25-4c56-d29b-a996bc04ca77",
    "trusted": true
   },
   "outputs": [
    {
     "name": "stderr",
     "output_type": "stream",
     "text": [
      "/usr/local/lib/python3.10/dist-packages/keras/src/layers/convolutional/base_conv.py:107: UserWarning: Do not pass an `input_shape`/`input_dim` argument to a layer. When using Sequential models, prefer using an `Input(shape)` object as the first layer in the model instead.\n",
      "  super().__init__(activity_regularizer=activity_regularizer, **kwargs)\n"
     ]
    }
   ],
   "source": [
    "model= tf.keras.models.Sequential()\n",
    "model.add(Conv2D(32, kernel_size=(3, 3), padding='same', activation='relu', input_shape=(48, 48,1)))\n",
    "model.add(Conv2D(64,(3,3), padding='same', activation='relu' ))\n",
    "model.add(BatchNormalization())\n",
    "model.add(MaxPool2D(pool_size=(2, 2)))\n",
    "model.add(Dropout(0.25))\n",
    "\n",
    "model.add(Conv2D(128,(5,5), padding='same', activation='relu'))\n",
    "model.add(BatchNormalization())\n",
    "model.add(MaxPool2D(pool_size=(2, 2)))\n",
    "model.add(Dropout(0.25))\n",
    "\n",
    "model.add(Conv2D(512,(3,3), padding='same', activation='relu', kernel_regularizer=regularizers.l2(0.01)))\n",
    "model.add(BatchNormalization())\n",
    "model.add(MaxPool2D(pool_size=(2, 2)))\n",
    "model.add(Dropout(0.25))\n",
    "\n",
    "model.add(Conv2D(512,(3,3), padding='same', activation='relu', kernel_regularizer=regularizers.l2(0.01)))\n",
    "model.add(BatchNormalization())\n",
    "model.add(MaxPool2D(pool_size=(2, 2)))\n",
    "model.add(Dropout(0.25))\n",
    "\n",
    "model.add(Flatten())\n",
    "model.add(Dense(256,activation = 'relu'))\n",
    "model.add(BatchNormalization())\n",
    "model.add(Dropout(0.25))\n",
    "\n",
    "model.add(Dense(512,activation = 'relu'))\n",
    "model.add(BatchNormalization())\n",
    "model.add(Dropout(0.25))\n",
    "\n",
    "model.add(Dense(7, activation='softmax'))\n",
    "\n",
    "model.compile(\n",
    "    optimizer = Adam(learning_rate=0.0001), # Change 'lr' to 'learning_rate'\n",
    "    loss='categorical_crossentropy',\n",
    "    metrics=['accuracy']\n",
    "  )\n",
    "\n",
    "\n",
    "# Inspired by the work in the below source on Kaggle:\n",
    "# \"Face Emotion Detection\" - https://www.kaggle.com/code/tejaswashrivastava/face-emotion\n"
   ]
  },
  {
   "cell_type": "code",
   "execution_count": 8,
   "metadata": {
    "colab": {
     "base_uri": "https://localhost:8080/"
    },
    "id": "5YgmtzOLawF_",
    "outputId": "d2835cbd-521e-41ae-fe13-9168f6de4034",
    "trusted": true
   },
   "outputs": [
    {
     "name": "stdout",
     "output_type": "stream",
     "text": [
      "Epoch 1/60\n"
     ]
    },
    {
     "name": "stderr",
     "output_type": "stream",
     "text": [
      "/usr/local/lib/python3.10/dist-packages/keras/src/trainers/data_adapters/py_dataset_adapter.py:122: UserWarning: Your `PyDataset` class should call `super().__init__(**kwargs)` in its constructor. `**kwargs` can include `workers`, `use_multiprocessing`, `max_queue_size`. Do not pass these arguments to `fit()`, as they will be ignored.\n",
      "  self._warn_if_super_not_called()\n"
     ]
    },
    {
     "name": "stdout",
     "output_type": "stream",
     "text": [
      "\u001b[1m359/359\u001b[0m \u001b[32m━━━━━━━━━━━━━━━━━━━━\u001b[0m\u001b[37m\u001b[0m \u001b[1m51s\u001b[0m 99ms/step - accuracy: 0.1820 - loss: 9.6156 - val_accuracy: 0.1872 - val_loss: 8.6692\n",
      "Epoch 2/60\n",
      "\u001b[1m359/359\u001b[0m \u001b[32m━━━━━━━━━━━━━━━━━━━━\u001b[0m\u001b[37m\u001b[0m \u001b[1m22s\u001b[0m 59ms/step - accuracy: 0.2252 - loss: 8.5050 - val_accuracy: 0.2612 - val_loss: 7.5988\n",
      "Epoch 3/60\n",
      "\u001b[1m359/359\u001b[0m \u001b[32m━━━━━━━━━━━━━━━━━━━━\u001b[0m\u001b[37m\u001b[0m \u001b[1m22s\u001b[0m 59ms/step - accuracy: 0.2406 - loss: 7.5485 - val_accuracy: 0.2856 - val_loss: 6.6726\n",
      "Epoch 4/60\n",
      "\u001b[1m359/359\u001b[0m \u001b[32m━━━━━━━━━━━━━━━━━━━━\u001b[0m\u001b[37m\u001b[0m \u001b[1m22s\u001b[0m 61ms/step - accuracy: 0.2664 - loss: 6.5975 - val_accuracy: 0.3170 - val_loss: 5.7749\n",
      "Epoch 5/60\n",
      "\u001b[1m359/359\u001b[0m \u001b[32m━━━━━━━━━━━━━━━━━━━━\u001b[0m\u001b[37m\u001b[0m \u001b[1m21s\u001b[0m 58ms/step - accuracy: 0.3048 - loss: 5.6728 - val_accuracy: 0.3736 - val_loss: 4.9333\n",
      "Epoch 6/60\n",
      "\u001b[1m359/359\u001b[0m \u001b[32m━━━━━━━━━━━━━━━━━━━━\u001b[0m\u001b[37m\u001b[0m \u001b[1m23s\u001b[0m 62ms/step - accuracy: 0.3345 - loss: 4.8941 - val_accuracy: 0.3715 - val_loss: 4.2831\n",
      "Epoch 7/60\n",
      "\u001b[1m359/359\u001b[0m \u001b[32m━━━━━━━━━━━━━━━━━━━━\u001b[0m\u001b[37m\u001b[0m \u001b[1m23s\u001b[0m 64ms/step - accuracy: 0.3662 - loss: 4.2196 - val_accuracy: 0.4120 - val_loss: 3.7116\n",
      "Epoch 8/60\n",
      "\u001b[1m359/359\u001b[0m \u001b[32m━━━━━━━━━━━━━━━━━━━━\u001b[0m\u001b[37m\u001b[0m \u001b[1m41s\u001b[0m 62ms/step - accuracy: 0.3871 - loss: 3.6836 - val_accuracy: 0.4344 - val_loss: 3.2405\n",
      "Epoch 9/60\n",
      "\u001b[1m359/359\u001b[0m \u001b[32m━━━━━━━━━━━━━━━━━━━━\u001b[0m\u001b[37m\u001b[0m \u001b[1m23s\u001b[0m 62ms/step - accuracy: 0.4152 - loss: 3.2243 - val_accuracy: 0.4323 - val_loss: 2.9076\n",
      "Epoch 10/60\n",
      "\u001b[1m359/359\u001b[0m \u001b[32m━━━━━━━━━━━━━━━━━━━━\u001b[0m\u001b[37m\u001b[0m \u001b[1m22s\u001b[0m 60ms/step - accuracy: 0.4361 - loss: 2.8674 - val_accuracy: 0.4553 - val_loss: 2.6919\n",
      "Epoch 11/60\n",
      "\u001b[1m359/359\u001b[0m \u001b[32m━━━━━━━━━━━━━━━━━━━━\u001b[0m\u001b[37m\u001b[0m \u001b[1m22s\u001b[0m 61ms/step - accuracy: 0.4514 - loss: 2.5924 - val_accuracy: 0.5517 - val_loss: 2.2422\n",
      "Epoch 12/60\n",
      "\u001b[1m359/359\u001b[0m \u001b[32m━━━━━━━━━━━━━━━━━━━━\u001b[0m\u001b[37m\u001b[0m \u001b[1m41s\u001b[0m 60ms/step - accuracy: 0.4786 - loss: 2.3433 - val_accuracy: 0.5230 - val_loss: 2.1150\n",
      "Epoch 13/60\n",
      "\u001b[1m359/359\u001b[0m \u001b[32m━━━━━━━━━━━━━━━━━━━━\u001b[0m\u001b[37m\u001b[0m \u001b[1m22s\u001b[0m 62ms/step - accuracy: 0.4900 - loss: 2.1682 - val_accuracy: 0.5545 - val_loss: 1.9198\n",
      "Epoch 14/60\n",
      "\u001b[1m359/359\u001b[0m \u001b[32m━━━━━━━━━━━━━━━━━━━━\u001b[0m\u001b[37m\u001b[0m \u001b[1m40s\u001b[0m 59ms/step - accuracy: 0.5027 - loss: 2.0310 - val_accuracy: 0.5398 - val_loss: 1.8868\n",
      "Epoch 15/60\n",
      "\u001b[1m359/359\u001b[0m \u001b[32m━━━━━━━━━━━━━━━━━━━━\u001b[0m\u001b[37m\u001b[0m \u001b[1m22s\u001b[0m 61ms/step - accuracy: 0.5191 - loss: 1.9002 - val_accuracy: 0.5698 - val_loss: 1.7531\n",
      "Epoch 16/60\n",
      "\u001b[1m359/359\u001b[0m \u001b[32m━━━━━━━━━━━━━━━━━━━━\u001b[0m\u001b[37m\u001b[0m \u001b[1m23s\u001b[0m 62ms/step - accuracy: 0.5277 - loss: 1.8360 - val_accuracy: 0.5635 - val_loss: 1.7263\n",
      "Epoch 17/60\n",
      "\u001b[1m359/359\u001b[0m \u001b[32m━━━━━━━━━━━━━━━━━━━━\u001b[0m\u001b[37m\u001b[0m \u001b[1m21s\u001b[0m 58ms/step - accuracy: 0.5371 - loss: 1.7600 - val_accuracy: 0.5978 - val_loss: 1.5971\n",
      "Epoch 18/60\n",
      "\u001b[1m359/359\u001b[0m \u001b[32m━━━━━━━━━━━━━━━━━━━━\u001b[0m\u001b[37m\u001b[0m \u001b[1m24s\u001b[0m 65ms/step - accuracy: 0.5476 - loss: 1.6815 - val_accuracy: 0.5985 - val_loss: 1.5538\n",
      "Epoch 19/60\n",
      "\u001b[1m359/359\u001b[0m \u001b[32m━━━━━━━━━━━━━━━━━━━━\u001b[0m\u001b[37m\u001b[0m \u001b[1m22s\u001b[0m 61ms/step - accuracy: 0.5621 - loss: 1.6337 - val_accuracy: 0.6006 - val_loss: 1.5163\n",
      "Epoch 20/60\n",
      "\u001b[1m359/359\u001b[0m \u001b[32m━━━━━━━━━━━━━━━━━━━━\u001b[0m\u001b[37m\u001b[0m \u001b[1m22s\u001b[0m 59ms/step - accuracy: 0.5652 - loss: 1.5956 - val_accuracy: 0.5838 - val_loss: 1.5294\n",
      "Epoch 21/60\n",
      "\u001b[1m359/359\u001b[0m \u001b[32m━━━━━━━━━━━━━━━━━━━━\u001b[0m\u001b[37m\u001b[0m \u001b[1m22s\u001b[0m 59ms/step - accuracy: 0.5688 - loss: 1.5709 - val_accuracy: 0.5999 - val_loss: 1.5097\n",
      "Epoch 22/60\n",
      "\u001b[1m359/359\u001b[0m \u001b[32m━━━━━━━━━━━━━━━━━━━━\u001b[0m\u001b[37m\u001b[0m \u001b[1m41s\u001b[0m 59ms/step - accuracy: 0.5803 - loss: 1.5410 - val_accuracy: 0.5908 - val_loss: 1.4980\n",
      "Epoch 23/60\n",
      "\u001b[1m359/359\u001b[0m \u001b[32m━━━━━━━━━━━━━━━━━━━━\u001b[0m\u001b[37m\u001b[0m \u001b[1m22s\u001b[0m 59ms/step - accuracy: 0.5872 - loss: 1.5030 - val_accuracy: 0.6166 - val_loss: 1.4456\n",
      "Epoch 24/60\n",
      "\u001b[1m359/359\u001b[0m \u001b[32m━━━━━━━━━━━━━━━━━━━━\u001b[0m\u001b[37m\u001b[0m \u001b[1m22s\u001b[0m 61ms/step - accuracy: 0.5753 - loss: 1.5009 - val_accuracy: 0.6229 - val_loss: 1.4352\n",
      "Epoch 25/60\n",
      "\u001b[1m359/359\u001b[0m \u001b[32m━━━━━━━━━━━━━━━━━━━━\u001b[0m\u001b[37m\u001b[0m \u001b[1m21s\u001b[0m 57ms/step - accuracy: 0.5903 - loss: 1.4757 - val_accuracy: 0.6166 - val_loss: 1.4363\n",
      "Epoch 26/60\n",
      "\u001b[1m359/359\u001b[0m \u001b[32m━━━━━━━━━━━━━━━━━━━━\u001b[0m\u001b[37m\u001b[0m \u001b[1m22s\u001b[0m 61ms/step - accuracy: 0.5965 - loss: 1.4669 - val_accuracy: 0.6292 - val_loss: 1.4079\n",
      "Epoch 27/60\n",
      "\u001b[1m359/359\u001b[0m \u001b[32m━━━━━━━━━━━━━━━━━━━━\u001b[0m\u001b[37m\u001b[0m \u001b[1m22s\u001b[0m 60ms/step - accuracy: 0.6085 - loss: 1.4345 - val_accuracy: 0.6215 - val_loss: 1.4246\n",
      "Epoch 28/60\n",
      "\u001b[1m359/359\u001b[0m \u001b[32m━━━━━━━━━━━━━━━━━━━━\u001b[0m\u001b[37m\u001b[0m \u001b[1m21s\u001b[0m 59ms/step - accuracy: 0.6100 - loss: 1.4139 - val_accuracy: 0.6166 - val_loss: 1.4044\n",
      "Epoch 29/60\n",
      "\u001b[1m359/359\u001b[0m \u001b[32m━━━━━━━━━━━━━━━━━━━━\u001b[0m\u001b[37m\u001b[0m \u001b[1m42s\u001b[0m 61ms/step - accuracy: 0.6118 - loss: 1.4187 - val_accuracy: 0.6166 - val_loss: 1.4048\n",
      "Epoch 30/60\n",
      "\u001b[1m359/359\u001b[0m \u001b[32m━━━━━━━━━━━━━━━━━━━━\u001b[0m\u001b[37m\u001b[0m \u001b[1m21s\u001b[0m 59ms/step - accuracy: 0.6120 - loss: 1.4021 - val_accuracy: 0.6341 - val_loss: 1.3907\n",
      "Epoch 31/60\n",
      "\u001b[1m359/359\u001b[0m \u001b[32m━━━━━━━━━━━━━━━━━━━━\u001b[0m\u001b[37m\u001b[0m \u001b[1m22s\u001b[0m 60ms/step - accuracy: 0.6194 - loss: 1.4045 - val_accuracy: 0.6187 - val_loss: 1.3856\n",
      "Epoch 32/60\n",
      "\u001b[1m359/359\u001b[0m \u001b[32m━━━━━━━━━━━━━━━━━━━━\u001b[0m\u001b[37m\u001b[0m \u001b[1m40s\u001b[0m 59ms/step - accuracy: 0.6260 - loss: 1.3854 - val_accuracy: 0.6306 - val_loss: 1.3772\n",
      "Epoch 33/60\n",
      "\u001b[1m359/359\u001b[0m \u001b[32m━━━━━━━━━━━━━━━━━━━━\u001b[0m\u001b[37m\u001b[0m \u001b[1m41s\u001b[0m 60ms/step - accuracy: 0.6250 - loss: 1.3973 - val_accuracy: 0.6390 - val_loss: 1.3623\n",
      "Epoch 34/60\n",
      "\u001b[1m359/359\u001b[0m \u001b[32m━━━━━━━━━━━━━━━━━━━━\u001b[0m\u001b[37m\u001b[0m \u001b[1m22s\u001b[0m 60ms/step - accuracy: 0.6312 - loss: 1.3899 - val_accuracy: 0.6278 - val_loss: 1.4136\n",
      "Epoch 35/60\n",
      "\u001b[1m359/359\u001b[0m \u001b[32m━━━━━━━━━━━━━━━━━━━━\u001b[0m\u001b[37m\u001b[0m \u001b[1m41s\u001b[0m 60ms/step - accuracy: 0.6248 - loss: 1.3853 - val_accuracy: 0.6068 - val_loss: 1.4135\n",
      "Epoch 36/60\n",
      "\u001b[1m359/359\u001b[0m \u001b[32m━━━━━━━━━━━━━━━━━━━━\u001b[0m\u001b[37m\u001b[0m \u001b[1m42s\u001b[0m 62ms/step - accuracy: 0.6373 - loss: 1.3795 - val_accuracy: 0.6173 - val_loss: 1.4258\n",
      "Epoch 37/60\n",
      "\u001b[1m359/359\u001b[0m \u001b[32m━━━━━━━━━━━━━━━━━━━━\u001b[0m\u001b[37m\u001b[0m \u001b[1m40s\u001b[0m 59ms/step - accuracy: 0.6358 - loss: 1.3664 - val_accuracy: 0.6397 - val_loss: 1.3959\n",
      "Epoch 38/60\n",
      "\u001b[1m359/359\u001b[0m \u001b[32m━━━━━━━━━━━━━━━━━━━━\u001b[0m\u001b[37m\u001b[0m \u001b[1m23s\u001b[0m 62ms/step - accuracy: 0.6378 - loss: 1.3698 - val_accuracy: 0.6446 - val_loss: 1.3823\n",
      "Epoch 39/60\n",
      "\u001b[1m359/359\u001b[0m \u001b[32m━━━━━━━━━━━━━━━━━━━━\u001b[0m\u001b[37m\u001b[0m \u001b[1m21s\u001b[0m 58ms/step - accuracy: 0.6400 - loss: 1.3723 - val_accuracy: 0.6418 - val_loss: 1.3406\n",
      "Epoch 40/60\n",
      "\u001b[1m359/359\u001b[0m \u001b[32m━━━━━━━━━━━━━━━━━━━━\u001b[0m\u001b[37m\u001b[0m \u001b[1m22s\u001b[0m 59ms/step - accuracy: 0.6550 - loss: 1.3303 - val_accuracy: 0.6473 - val_loss: 1.3556\n",
      "Epoch 41/60\n",
      "\u001b[1m359/359\u001b[0m \u001b[32m━━━━━━━━━━━━━━━━━━━━\u001b[0m\u001b[37m\u001b[0m \u001b[1m22s\u001b[0m 61ms/step - accuracy: 0.6459 - loss: 1.3555 - val_accuracy: 0.6229 - val_loss: 1.4326\n",
      "Epoch 42/60\n",
      "\u001b[1m359/359\u001b[0m \u001b[32m━━━━━━━━━━━━━━━━━━━━\u001b[0m\u001b[37m\u001b[0m \u001b[1m22s\u001b[0m 61ms/step - accuracy: 0.6498 - loss: 1.3426 - val_accuracy: 0.6411 - val_loss: 1.3840\n",
      "Epoch 43/60\n",
      "\u001b[1m359/359\u001b[0m \u001b[32m━━━━━━━━━━━━━━━━━━━━\u001b[0m\u001b[37m\u001b[0m \u001b[1m21s\u001b[0m 59ms/step - accuracy: 0.6506 - loss: 1.3510 - val_accuracy: 0.6529 - val_loss: 1.3706\n",
      "Epoch 44/60\n",
      "\u001b[1m359/359\u001b[0m \u001b[32m━━━━━━━━━━━━━━━━━━━━\u001b[0m\u001b[37m\u001b[0m \u001b[1m22s\u001b[0m 62ms/step - accuracy: 0.6550 - loss: 1.3390 - val_accuracy: 0.6746 - val_loss: 1.3385\n",
      "Epoch 45/60\n",
      "\u001b[1m359/359\u001b[0m \u001b[32m━━━━━━━━━━━━━━━━━━━━\u001b[0m\u001b[37m\u001b[0m \u001b[1m40s\u001b[0m 60ms/step - accuracy: 0.6510 - loss: 1.3486 - val_accuracy: 0.6418 - val_loss: 1.3743\n",
      "Epoch 46/60\n",
      "\u001b[1m359/359\u001b[0m \u001b[32m━━━━━━━━━━━━━━━━━━━━\u001b[0m\u001b[37m\u001b[0m \u001b[1m41s\u001b[0m 59ms/step - accuracy: 0.6552 - loss: 1.3458 - val_accuracy: 0.6550 - val_loss: 1.3564\n",
      "Epoch 47/60\n",
      "\u001b[1m359/359\u001b[0m \u001b[32m━━━━━━━━━━━━━━━━━━━━\u001b[0m\u001b[37m\u001b[0m \u001b[1m42s\u001b[0m 61ms/step - accuracy: 0.6485 - loss: 1.3424 - val_accuracy: 0.6432 - val_loss: 1.3757\n",
      "Epoch 48/60\n",
      "\u001b[1m359/359\u001b[0m \u001b[32m━━━━━━━━━━━━━━━━━━━━\u001b[0m\u001b[37m\u001b[0m \u001b[1m41s\u001b[0m 62ms/step - accuracy: 0.6571 - loss: 1.3283 - val_accuracy: 0.6341 - val_loss: 1.4305\n",
      "Epoch 49/60\n",
      "\u001b[1m359/359\u001b[0m \u001b[32m━━━━━━━━━━━━━━━━━━━━\u001b[0m\u001b[37m\u001b[0m \u001b[1m22s\u001b[0m 61ms/step - accuracy: 0.6604 - loss: 1.3251 - val_accuracy: 0.6606 - val_loss: 1.3476\n",
      "Epoch 50/60\n",
      "\u001b[1m359/359\u001b[0m \u001b[32m━━━━━━━━━━━━━━━━━━━━\u001b[0m\u001b[37m\u001b[0m \u001b[1m22s\u001b[0m 60ms/step - accuracy: 0.6648 - loss: 1.3155 - val_accuracy: 0.6536 - val_loss: 1.4042\n",
      "Epoch 51/60\n",
      "\u001b[1m359/359\u001b[0m \u001b[32m━━━━━━━━━━━━━━━━━━━━\u001b[0m\u001b[37m\u001b[0m \u001b[1m22s\u001b[0m 61ms/step - accuracy: 0.6696 - loss: 1.3091 - val_accuracy: 0.6627 - val_loss: 1.3703\n",
      "Epoch 52/60\n",
      "\u001b[1m359/359\u001b[0m \u001b[32m━━━━━━━━━━━━━━━━━━━━\u001b[0m\u001b[37m\u001b[0m \u001b[1m41s\u001b[0m 60ms/step - accuracy: 0.6653 - loss: 1.3238 - val_accuracy: 0.6543 - val_loss: 1.3903\n",
      "Epoch 53/60\n",
      "\u001b[1m359/359\u001b[0m \u001b[32m━━━━━━━━━━━━━━━━━━━━\u001b[0m\u001b[37m\u001b[0m \u001b[1m41s\u001b[0m 61ms/step - accuracy: 0.6643 - loss: 1.3327 - val_accuracy: 0.6662 - val_loss: 1.3710\n",
      "Epoch 54/60\n",
      "\u001b[1m359/359\u001b[0m \u001b[32m━━━━━━━━━━━━━━━━━━━━\u001b[0m\u001b[37m\u001b[0m \u001b[1m42s\u001b[0m 62ms/step - accuracy: 0.6755 - loss: 1.3026 - val_accuracy: 0.6641 - val_loss: 1.3490\n",
      "Epoch 55/60\n",
      "\u001b[1m359/359\u001b[0m \u001b[32m━━━━━━━━━━━━━━━━━━━━\u001b[0m\u001b[37m\u001b[0m \u001b[1m22s\u001b[0m 61ms/step - accuracy: 0.6645 - loss: 1.3223 - val_accuracy: 0.6690 - val_loss: 1.3609\n",
      "Epoch 56/60\n",
      "\u001b[1m359/359\u001b[0m \u001b[32m━━━━━━━━━━━━━━━━━━━━\u001b[0m\u001b[37m\u001b[0m \u001b[1m42s\u001b[0m 64ms/step - accuracy: 0.6774 - loss: 1.3141 - val_accuracy: 0.6522 - val_loss: 1.3923\n",
      "Epoch 57/60\n",
      "\u001b[1m359/359\u001b[0m \u001b[32m━━━━━━━━━━━━━━━━━━━━\u001b[0m\u001b[37m\u001b[0m \u001b[1m40s\u001b[0m 60ms/step - accuracy: 0.6746 - loss: 1.3100 - val_accuracy: 0.6613 - val_loss: 1.3776\n",
      "Epoch 58/60\n",
      "\u001b[1m359/359\u001b[0m \u001b[32m━━━━━━━━━━━━━━━━━━━━\u001b[0m\u001b[37m\u001b[0m \u001b[1m40s\u001b[0m 59ms/step - accuracy: 0.6782 - loss: 1.3076 - val_accuracy: 0.6599 - val_loss: 1.3788\n",
      "Epoch 59/60\n",
      "\u001b[1m359/359\u001b[0m \u001b[32m━━━━━━━━━━━━━━━━━━━━\u001b[0m\u001b[37m\u001b[0m \u001b[1m41s\u001b[0m 60ms/step - accuracy: 0.6773 - loss: 1.2987 - val_accuracy: 0.6550 - val_loss: 1.4056\n",
      "Epoch 60/60\n",
      "\u001b[1m359/359\u001b[0m \u001b[32m━━━━━━━━━━━━━━━━━━━━\u001b[0m\u001b[37m\u001b[0m \u001b[1m42s\u001b[0m 62ms/step - accuracy: 0.6755 - loss: 1.3065 - val_accuracy: 0.6760 - val_loss: 1.3885\n"
     ]
    }
   ],
   "source": [
    "epochs = 60\n",
    "batch_size = 64\n",
    "history = model.fit(x = train_generator,epochs = epochs,validation_data = validation_generator)"
   ]
  },
  {
   "cell_type": "code",
   "execution_count": 9,
   "metadata": {
    "colab": {
     "base_uri": "https://localhost:8080/",
     "height": 280
    },
    "id": "PtT_qp_vawGA",
    "outputId": "154ff016-fbc1-4f7f-999d-a94c534ae75c",
    "trusted": true
   },
   "outputs": [
    {
     "data": {
      "image/png": "[encoded data removed]",
      "text/plain": [
       "<Figure size 1200x400 with 2 Axes>"
      ]
     },
     "metadata": {},
     "output_type": "display_data"
    }
   ],
   "source": [
    "fig , ax = plt.subplots(1,2)\n",
    "train_acc = history.history['accuracy']\n",
    "train_loss = history.history['loss']\n",
    "fig.set_size_inches(12,4)\n",
    "\n",
    "ax[0].plot(history.history['accuracy'])\n",
    "ax[0].plot(history.history['val_accuracy'])\n",
    "ax[0].set_title('Training Accuracy vs Validation Accuracy')\n",
    "ax[0].set_ylabel('Accuracy')\n",
    "ax[0].set_xlabel('Epoch')\n",
    "ax[0].legend(['Train', 'Validation'], loc='upper left')\n",
    "\n",
    "ax[1].plot(history.history['loss'])\n",
    "ax[1].plot(history.history['val_loss'])\n",
    "ax[1].set_title('Training Loss vs Validation Loss')\n",
    "ax[1].set_ylabel('Loss')\n",
    "ax[1].set_xlabel('Epoch')\n",
    "ax[1].legend(['Train', 'Validation'], loc='upper left')\n",
    "\n",
    "plt.show()"
   ]
  },
  {
   "cell_type": "code",
   "execution_count": 10,
   "metadata": {
    "colab": {
     "base_uri": "https://localhost:8080/"
    },
    "id": "I79xoitkawGB",
    "outputId": "aaf7b442-82fb-4dbe-a60d-988d5aa31a96",
    "trusted": true
   },
   "outputs": [
    {
     "name": "stderr",
     "output_type": "stream",
     "text": [
      "WARNING:absl:You are saving your model as an HDF5 file via `model.save()` or `keras.saving.save_model(model)`. This file format is considered legacy. We recommend using instead the native Keras format, e.g. `model.save('my_model.keras')` or `keras.saving.save_model(model, 'my_model.keras')`. \n"
     ]
    }
   ],
   "source": [
    "model.save('model_optimal.h5')"
   ]
  },
  {
   "cell_type": "code",
   "execution_count": 11,
   "metadata": {
    "colab": {
     "base_uri": "https://localhost:8080/",
     "height": 449
    },
    "id": "QSN5xia9awGD",
    "outputId": "c713d137-fe2e-48e4-b388-b011e1baaa29",
    "trusted": true
   },
   "outputs": [
    {
     "name": "stdout",
     "output_type": "stream",
     "text": [
      "(48, 48)\n"
     ]
    },
    {
     "data": {
      "image/png": "[encoded data removed]",
      "text/plain": [
       "<Figure size 640x480 with 1 Axes>"
      ]
     },
     "metadata": {},
     "output_type": "display_data"
    }
   ],
   "source": [
    "img = image.load_img(\"/content/fer2013_path/test/happy/PrivateTest_10613684.jpg\",target_size = (48,48),color_mode = \"grayscale\")\n",
    "img = np.array(img)\n",
    "plt.imshow(img)\n",
    "print(img.shape) #prints (48,48) that is the shape of our image"
   ]
  },
  {
   "cell_type": "code",
   "execution_count": 12,
   "metadata": {
    "id": "UoVY9su2awGE",
    "trusted": true
   },
   "outputs": [],
   "source": [
    "label_dict = {0:'Angry',1:'Disgust',2:'Fear',3:'Happy',4:'Neutral',5:'Sad',6:'Surprise'}"
   ]
  },
  {
   "cell_type": "code",
   "execution_count": 13,
   "metadata": {
    "colab": {
     "base_uri": "https://localhost:8080/"
    },
    "id": "5M9S9EpOawGW",
    "outputId": "3eaefebb-217f-455f-b450-95d2949b992b",
    "trusted": true
   },
   "outputs": [
    {
     "name": "stdout",
     "output_type": "stream",
     "text": [
      "\u001b[1m1/1\u001b[0m \u001b[32m━━━━━━━━━━━━━━━━━━━━\u001b[0m\u001b[37m\u001b[0m \u001b[1m1s\u001b[0m 999ms/step\n",
      "[0.0, 0.0, 3.275112e-22, 1.0, 0.0, 0.0, 0.0]\n"
     ]
    }
   ],
   "source": [
    "img = np.expand_dims(img,axis = 0) #makes image shape (1,48,48)\n",
    "img = img.reshape(1,48,48,1)\n",
    "result = model.predict(img)\n",
    "result = list(result[0])\n",
    "print(result)"
   ]
  },
  {
   "cell_type": "code",
   "execution_count": 14,
   "metadata": {
    "colab": {
     "base_uri": "https://localhost:8080/"
    },
    "id": "20h4sPmKawGX",
    "outputId": "1283e501-9a0b-40b5-8f68-10ee7e86bc95",
    "trusted": true
   },
   "outputs": [
    {
     "name": "stdout",
     "output_type": "stream",
     "text": [
      "Happy\n"
     ]
    }
   ],
   "source": [
    "img_index = result.index(max(result))\n",
    "print(label_dict[img_index])\n",
    "plt.show()"
   ]
  },
  {
   "cell_type": "code",
   "execution_count": 15,
   "metadata": {
    "colab": {
     "base_uri": "https://localhost:8080/"
    },
    "id": "Lb4T781GawGY",
    "outputId": "ea8aee88-65ce-4927-aac4-cebaf21c15ab",
    "trusted": true
   },
   "outputs": [
    {
     "name": "stdout",
     "output_type": "stream",
     "text": [
      "\u001b[1m359/359\u001b[0m \u001b[32m━━━━━━━━━━━━━━━━━━━━\u001b[0m\u001b[37m\u001b[0m \u001b[1m19s\u001b[0m 54ms/step - accuracy: 0.7181 - loss: 1.1940\n",
      "\u001b[1m23/23\u001b[0m \u001b[32m━━━━━━━━━━━━━━━━━━━━\u001b[0m\u001b[37m\u001b[0m \u001b[1m1s\u001b[0m 33ms/step - accuracy: 0.6842 - loss: 1.4147\n",
      "final train accuracy = 71.88 , validation accuracy = 67.60\n"
     ]
    }
   ],
   "source": [
    "train_loss, train_acc = model.evaluate(train_generator)\n",
    "test_loss, test_acc   = model.evaluate(validation_generator)\n",
    "print(\"final train accuracy = {:.2f} , validation accuracy = {:.2f}\".format(train_acc*100, test_acc*100))"
   ]
  },
  {
   "cell_type": "code",
   "execution_count": 16,
   "metadata": {
    "id": "0eP5jrk9awGY",
    "trusted": true
   },
   "outputs": [],
   "source": [
    "model.save_weights('model_weights.weights.h5')"
   ]
  },
  {
   "cell_type": "code",
   "execution_count": 17,
   "metadata": {
    "colab": {
     "base_uri": "https://localhost:8080/"
    },
    "id": "oNKYuTPvmj5z",
    "outputId": "b1e25839-56ca-442c-8102-2894b9659ecc"
   },
   "outputs": [
    {
     "name": "stdout",
     "output_type": "stream",
     "text": [
      "Collecting gTTS\n",
      "  Downloading gTTS-2.5.4-py3-none-any.whl.metadata (4.1 kB)\n",
      "Requirement already satisfied: requests<3,>=2.27 in /usr/local/lib/python3.10/dist-packages (from gTTS) (2.32.3)\n",
      "Requirement already satisfied: click<8.2,>=7.1 in /usr/local/lib/python3.10/dist-packages (from gTTS) (8.1.7)\n",
      "Requirement already satisfied: charset-normalizer<4,>=2 in /usr/local/lib/python3.10/dist-packages (from requests<3,>=2.27->gTTS) (3.4.0)\n",
      "Requirement already satisfied: idna<4,>=2.5 in /usr/local/lib/python3.10/dist-packages (from requests<3,>=2.27->gTTS) (3.10)\n",
      "Requirement already satisfied: urllib3<3,>=1.21.1 in /usr/local/lib/python3.10/dist-packages (from requests<3,>=2.27->gTTS) (2.2.3)\n",
      "Requirement already satisfied: certifi>=2017.4.17 in /usr/local/lib/python3.10/dist-packages (from requests<3,>=2.27->gTTS) (2024.8.30)\n",
      "Downloading gTTS-2.5.4-py3-none-any.whl (29 kB)\n",
      "Installing collected packages: gTTS\n",
      "Successfully installed gTTS-2.5.4\n",
      "Requirement already satisfied: IPython in /usr/local/lib/python3.10/dist-packages (7.34.0)\n",
      "Requirement already satisfied: setuptools>=18.5 in /usr/local/lib/python3.10/dist-packages (from IPython) (75.1.0)\n",
      "Collecting jedi>=0.16 (from IPython)\n",
      "  Downloading jedi-0.19.2-py2.py3-none-any.whl.metadata (22 kB)\n",
      "Requirement already satisfied: decorator in /usr/local/lib/python3.10/dist-packages (from IPython) (4.4.2)\n",
      "Requirement already satisfied: pickleshare in /usr/local/lib/python3.10/dist-packages (from IPython) (0.7.5)\n",
      "Requirement already satisfied: traitlets>=4.2 in /usr/local/lib/python3.10/dist-packages (from IPython) (5.7.1)\n",
      "Requirement already satisfied: prompt-toolkit!=3.0.0,!=3.0.1,<3.1.0,>=2.0.0 in /usr/local/lib/python3.10/dist-packages (from IPython) (3.0.48)\n",
      "Requirement already satisfied: pygments in /usr/local/lib/python3.10/dist-packages (from IPython) (2.18.0)\n",
      "Requirement already satisfied: backcall in /usr/local/lib/python3.10/dist-packages (from IPython) (0.2.0)\n",
      "Requirement already satisfied: matplotlib-inline in /usr/local/lib/python3.10/dist-packages (from IPython) (0.1.7)\n",
      "Requirement already satisfied: pexpect>4.3 in /usr/local/lib/python3.10/dist-packages (from IPython) (4.9.0)\n",
      "Requirement already satisfied: parso<0.9.0,>=0.8.4 in /usr/local/lib/python3.10/dist-packages (from jedi>=0.16->IPython) (0.8.4)\n",
      "Requirement already satisfied: ptyprocess>=0.5 in /usr/local/lib/python3.10/dist-packages (from pexpect>4.3->IPython) (0.7.0)\n",
      "Requirement already satisfied: wcwidth in /usr/local/lib/python3.10/dist-packages (from prompt-toolkit!=3.0.0,!=3.0.1,<3.1.0,>=2.0.0->IPython) (0.2.13)\n",
      "Downloading jedi-0.19.2-py2.py3-none-any.whl (1.6 MB)\n",
      "\u001b[2K   \u001b[90m━━━━━━━━━━━━━━━━━━━━━━━━━━━━━━━━━━━━━━━━\u001b[0m \u001b[32m1.6/1.6 MB\u001b[0m \u001b[31m28.4 MB/s\u001b[0m eta \u001b[36m0:00:00\u001b[0m\n",
      "\u001b[?25hInstalling collected packages: jedi\n",
      "Successfully installed jedi-0.19.2\n",
      "Requirement already satisfied: google in /usr/local/lib/python3.10/dist-packages (2.0.3)\n",
      "Requirement already satisfied: beautifulsoup4 in /usr/local/lib/python3.10/dist-packages (from google) (4.12.3)\n",
      "Requirement already satisfied: soupsieve>1.2 in /usr/local/lib/python3.10/dist-packages (from beautifulsoup4->google) (2.6)\n"
     ]
    }
   ],
   "source": [
    "!pip install gTTS\n",
    "!pip install IPython\n",
    "!pip install google"
   ]
  },
  {
   "cell_type": "code",
   "execution_count": 18,
   "metadata": {
    "colab": {
     "base_uri": "https://localhost:8080/"
    },
    "id": "8QTUsouomsq1",
    "outputId": "dc582c90-cf3f-43a4-daad-d2dde64b5040"
   },
   "outputs": [
    {
     "name": "stdout",
     "output_type": "stream",
     "text": [
      "Collecting SpeechRecognition\n",
      "  Downloading SpeechRecognition-3.12.0-py3-none-any.whl.metadata (30 kB)\n",
      "Requirement already satisfied: typing-extensions in /usr/local/lib/python3.10/dist-packages (from SpeechRecognition) (4.12.2)\n",
      "Downloading SpeechRecognition-3.12.0-py3-none-any.whl (32.8 MB)\n",
      "\u001b[2K   \u001b[90m━━━━━━━━━━━━━━━━━━━━━━━━━━━━━━━━━━━━━━━━\u001b[0m \u001b[32m32.8/32.8 MB\u001b[0m \u001b[31m22.5 MB/s\u001b[0m eta \u001b[36m0:00:00\u001b[0m\n",
      "\u001b[?25hInstalling collected packages: SpeechRecognition\n",
      "Successfully installed SpeechRecognition-3.12.0\n"
     ]
    }
   ],
   "source": [
    "!pip install SpeechRecognition"
   ]
  },
  {
   "cell_type": "code",
   "execution_count": 19,
   "metadata": {
    "colab": {
     "base_uri": "https://localhost:8080/",
     "height": 94
    },
    "id": "flXmh2jRlaTY",
    "outputId": "c55ccb39-b0e4-49a2-b35d-da754445ac4e"
   },
   "outputs": [
    {
     "name": "stdout",
     "output_type": "stream",
     "text": [
      "Playing the detected emotion response...\n"
     ]
    },
    {
     "data": {
      "text/html": [
       "\n",
       "                <audio  controls=\"controls\" autoplay=\"autoplay\">\n",
       "                    <source src=\"data:audio/mpeg;base64,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\" type=\"audio/mpeg\" />\n",
       "                    Your browser does not support the audio element.\n",
       "                </audio>\n",
       "              "
      ],
      "text/plain": [
       "<IPython.lib.display.Audio object>"
      ]
     },
     "execution_count": 19,
     "metadata": {},
     "output_type": "execute_result"
    }
   ],
   "source": [
    "from gtts import gTTS\n",
    "from IPython.display import Audio\n",
    "from google.colab import files\n",
    "import speech_recognition as sr\n",
    "\n",
    "# Text-to-Speech Function\n",
    "def speak(text):\n",
    "    \"\"\"Converts text to speech and plays it in Google Colab.\"\"\"\n",
    "    try:\n",
    "        tts = gTTS(text=text, lang='en')\n",
    "        tts.save(\"temp.mp3\")\n",
    "        return Audio(\"temp.mp3\", autoplay=True)\n",
    "    except Exception as e:\n",
    "        print(f\"Error in text-to-speech: {e}\")\n",
    "\n",
    "# Speech-to-Text Function from Uploaded File\n",
    "def listen_from_uploaded_file():\n",
    "    \"\"\"Uploads an audio file and performs speech recognition on it.\"\"\"\n",
    "    print(\"Please upload an audio file:\")\n",
    "    uploaded = files.upload()\n",
    "    file_name = next(iter(uploaded))  # Get the uploaded file name\n",
    "\n",
    "    r = sr.Recognizer()\n",
    "    with sr.AudioFile(file_name) as source:\n",
    "        audio = r.record(source)  # Read the entire audio file\n",
    "\n",
    "    try:\n",
    "        text = r.recognize_google(audio)\n",
    "        print(\"You said:\", text)\n",
    "        return text\n",
    "    except sr.UnknownValueError:\n",
    "        print(\"Could not understand the audio.\")\n",
    "        return None\n",
    "    except sr.RequestError as e:\n",
    "        print(f\"Could not request results from Google Speech Recognition service; {e}\")\n",
    "        return None\n",
    "\n",
    "# Example Usage\n",
    "# Mock emotion result\n",
    "result = [0.1, 0.05, 0.2, 0.6, 0.03, 0.02, 0.0]  # Mock probabilities\n",
    "label_dict = {0: 'Angry', 1: 'Disgust', 2: 'Fear', 3: 'Happy', 4: 'Neutral', 5: 'Sad', 6: 'Surprise'}\n",
    "\n",
    "# Detect emotion\n",
    "img_index = result.index(max(result))  # Get index of highest probability\n",
    "emotion = label_dict[img_index]  # Map to emotion label\n",
    "\n",
    "# Speak the detected emotion\n",
    "print(\"Playing the detected emotion response...\")\n",
    "Audio_response = speak(f\"The detected emotion is {emotion}.\")\n",
    "Audio_response\n",
    "\n"
   ]
  }
 ],
 "metadata": {
  "accelerator": "GPU",
  "colab": {
   "gpuType": "T4",
   "provenance": []
  },
  "kernelspec": {
   "display_name": "Python 3",
   "name": "python3"
  },
  "language_info": {
   "codemirror_mode": {
    "name": "ipython",
    "version": 3
   },
   "file_extension": ".py",
   "mimetype": "text/x-python",
   "name": "python",
   "nbconvert_exporter": "python",
   "pygments_lexer": "ipython3",
   "version": "3.12.8"
  }
 },
 "nbformat": 4,
 "nbformat_minor": 0
}
